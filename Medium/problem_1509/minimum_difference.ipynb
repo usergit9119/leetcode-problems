{
 "cells": [
  {
   "cell_type": "markdown",
   "id": "0b17c1aa-cc83-461f-8dd1-f9857154a001",
   "metadata": {},
   "source": [
    "<h1>1509. Minimum Difference Between Largest and Smallest Value in Three Moves</h1>\n"
   ]
  },
  {
   "cell_type": "code",
   "execution_count": 1,
   "id": "c37f71f0-9297-484f-b20a-58a2ac7c1ac6",
   "metadata": {},
   "outputs": [
    {
     "name": "stdout",
     "output_type": "stream",
     "text": [
      "0\n",
      "1\n",
      "0\n"
     ]
    }
   ],
   "source": [
    "class Solution:\n",
    "    def minDifference(self, nums):\n",
    "        if len(nums) <= 4:\n",
    "            return 0\n",
    "        \n",
    "        nums.sort()\n",
    "        \n",
    "        n = len(nums)\n",
    "        \n",
    "        return min(nums[-4] - nums[0], nums[-3] - nums[1], nums[-2] - nums[2], nums[-1] - nums[3])\n",
    "\n",
    "solver = Solution()\n",
    "\n",
    "nums1 = [5, 3, 2, 4]\n",
    "nums2 = [1, 5, 0, 10, 14]\n",
    "nums3 = [3, 100, 20]\n",
    "\n",
    "print(solver.minDifference(nums1))\n",
    "print(solver.minDifference(nums2))\n",
    "print(solver.minDifference(nums3))\n"
   ]
  },
  {
   "cell_type": "code",
   "execution_count": null,
   "id": "4d082702-0bea-4ac6-9c96-7a3db3727532",
   "metadata": {},
   "outputs": [],
   "source": []
  }
 ],
 "metadata": {
  "kernelspec": {
   "display_name": "Python 3 (ipykernel)",
   "language": "python",
   "name": "python3"
  },
  "language_info": {
   "codemirror_mode": {
    "name": "ipython",
    "version": 3
   },
   "file_extension": ".py",
   "mimetype": "text/x-python",
   "name": "python",
   "nbconvert_exporter": "python",
   "pygments_lexer": "ipython3",
   "version": "3.10.12"
  }
 },
 "nbformat": 4,
 "nbformat_minor": 5
}
