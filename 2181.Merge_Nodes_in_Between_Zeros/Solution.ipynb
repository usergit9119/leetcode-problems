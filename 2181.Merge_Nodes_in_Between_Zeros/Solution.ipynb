{
 "cells": [
  {
   "cell_type": "code",
   "execution_count": 1,
   "metadata": {},
   "outputs": [
    {
     "name": "stdout",
     "output_type": "stream",
     "text": [
      "4 11 "
     ]
    }
   ],
   "source": [
    "class ListNode:\n",
    "    def __init__(self, val=0, next=None):\n",
    "        self.val = val\n",
    "        self.next = next\n",
    "\n",
    "class Solution:\n",
    "    def mergeNodes(self, head: ListNode) -> ListNode:\n",
    "        dummy = ListNode(0)\n",
    "        current = dummy\n",
    "        sum_val = 0\n",
    "        head = head.next\n",
    "\n",
    "        while head:\n",
    "            if head.val == 0:\n",
    "                if sum_val != 0:\n",
    "                    current.next = ListNode(sum_val)\n",
    "                    current = current.next\n",
    "                    sum_val = 0\n",
    "            else:\n",
    "                sum_val += head.val\n",
    "\n",
    "            head = head.next\n",
    "\n",
    "        return dummy.next\n",
    "\n",
    "head = ListNode(0, ListNode(3, ListNode(1, ListNode(0, ListNode(4, ListNode(5, ListNode(2, ListNode(0))))))))\n",
    "solution = Solution()\n",
    "result = solution.mergeNodes(head)\n",
    "\n",
    "while result:\n",
    "    print(result.val, end=\" \")\n",
    "    result = result.next\n"
   ]
  }
 ],
 "metadata": {
  "kernelspec": {
   "display_name": "Python 3",
   "language": "python",
   "name": "python3"
  },
  "language_info": {
   "codemirror_mode": {
    "name": "ipython",
    "version": 3
   },
   "file_extension": ".py",
   "mimetype": "text/x-python",
   "name": "python",
   "nbconvert_exporter": "python",
   "pygments_lexer": "ipython3",
   "version": "3.10.13"
  }
 },
 "nbformat": 4,
 "nbformat_minor": 2
}
